{
 "cells": [
  {
   "cell_type": "code",
   "execution_count": 2,
   "id": "1919bf18-a478-4bea-ab80-78db72214137",
   "metadata": {},
   "outputs": [
    {
     "data": {
      "text/plain": [
       "['DEPRECATION: Loading egg at c:\\\\users\\\\ce la vie\\\\anaconda3\\\\lib\\\\site-packages\\\\django-5.0.3-py3.11.egg is deprecated. pip 24.3 will enforce this behaviour change. A possible replacement is to use pip for package installation.. Discussion can be found at https://github.com/pypa/pip/issues/12330',\n",
       " 'DEPRECATION: Loading egg at c:\\\\users\\\\ce la vie\\\\anaconda3\\\\lib\\\\site-packages\\\\pip-24.0-py3.11.egg is deprecated. pip 24.3 will enforce this behaviour change. A possible replacement is to use pip for package installation.. Discussion can be found at https://github.com/pypa/pip/issues/12330',\n",
       " 'Collecting pycaw',\n",
       " \"  WARNING: Retrying (Retry(total=4, connect=None, read=None, redirect=None, status=None)) after connection broken by 'NewConnectionError('<pip._vendor.urllib3.connection.HTTPSConnection object at 0x00000079AE76C810>: Failed to establish a new connection: [WinError 10061] Подключение не установлено, т.к. конечный компьютер отверг запрос на подключение')': /packages/c2/e2/89e3e096d8926f19cbcf2991ae86d19e6705ea75ad0212862461cb4b83d8/pycaw-20240210-py3-none-any.whl.metadata\",\n",
       " \"  WARNING: Retrying (Retry(total=3, connect=None, read=None, redirect=None, status=None)) after connection broken by 'NewConnectionError('<pip._vendor.urllib3.connection.HTTPSConnection object at 0x00000079AE76CE90>: Failed to establish a new connection: [WinError 10061] Подключение не установлено, т.к. конечный компьютер отверг запрос на подключение')': /packages/c2/e2/89e3e096d8926f19cbcf2991ae86d19e6705ea75ad0212862461cb4b83d8/pycaw-20240210-py3-none-any.whl.metadata\",\n",
       " \"  WARNING: Retrying (Retry(total=2, connect=None, read=None, redirect=None, status=None)) after connection broken by 'NewConnectionError('<pip._vendor.urllib3.connection.HTTPSConnection object at 0x00000079AE76D7D0>: Failed to establish a new connection: [WinError 10061] Подключение не установлено, т.к. конечный компьютер отверг запрос на подключение')': /packages/c2/e2/89e3e096d8926f19cbcf2991ae86d19e6705ea75ad0212862461cb4b83d8/pycaw-20240210-py3-none-any.whl.metadata\",\n",
       " \"  WARNING: Retrying (Retry(total=1, connect=None, read=None, redirect=None, status=None)) after connection broken by 'NewConnectionError('<pip._vendor.urllib3.connection.HTTPSConnection object at 0x00000079AE76E090>: Failed to establish a new connection: [WinError 10061] Подключение не установлено, т.к. конечный компьютер отверг запрос на подключение')': /packages/c2/e2/89e3e096d8926f19cbcf2991ae86d19e6705ea75ad0212862461cb4b83d8/pycaw-20240210-py3-none-any.whl.metadata\",\n",
       " \"  WARNING: Retrying (Retry(total=0, connect=None, read=None, redirect=None, status=None)) after connection broken by 'NewConnectionError('<pip._vendor.urllib3.connection.HTTPSConnection object at 0x00000079AE76E950>: Failed to establish a new connection: [WinError 10061] Подключение не установлено, т.к. конечный компьютер отверг запрос на подключение')': /packages/c2/e2/89e3e096d8926f19cbcf2991ae86d19e6705ea75ad0212862461cb4b83d8/pycaw-20240210-py3-none-any.whl.metadata\",\n",
       " \"ERROR: Could not install packages due to an OSError: HTTPSConnectionPool(host='files.pythonhosted.org', port=443): Max retries exceeded with url: /packages/c2/e2/89e3e096d8926f19cbcf2991ae86d19e6705ea75ad0212862461cb4b83d8/pycaw-20240210-py3-none-any.whl.metadata (Caused by NewConnectionError('<pip._vendor.urllib3.connection.HTTPSConnection object at 0x00000079AE76F290>: Failed to establish a new connection: [WinError 10061] Подключение не установлено, т.к. конечный компьютер отверг запрос на подключение'))\",\n",
       " '']"
      ]
     },
     "execution_count": 2,
     "metadata": {},
     "output_type": "execute_result"
    }
   ],
   "source": [
    "!!pip install pycaw"
   ]
  },
  {
   "cell_type": "code",
   "execution_count": 6,
   "id": "98a5b4a1-4596-4613-94f9-8a642fae7738",
   "metadata": {},
   "outputs": [
    {
     "data": {
      "text/plain": [
       "['DEPRECATION: Loading egg at c:\\\\users\\\\ce la vie\\\\anaconda3\\\\lib\\\\site-packages\\\\django-5.0.3-py3.11.egg is deprecated. pip 24.3 will enforce this behaviour change. A possible replacement is to use pip for package installation.. Discussion can be found at https://github.com/pypa/pip/issues/12330',\n",
       " 'DEPRECATION: Loading egg at c:\\\\users\\\\ce la vie\\\\anaconda3\\\\lib\\\\site-packages\\\\pip-24.0-py3.11.egg is deprecated. pip 24.3 will enforce this behaviour change. A possible replacement is to use pip for package installation.. Discussion can be found at https://github.com/pypa/pip/issues/12330',\n",
       " 'Collecting pyautogui',\n",
       " \"  WARNING: Retrying (Retry(total=4, connect=None, read=None, redirect=None, status=None)) after connection broken by 'NewConnectionError('<pip._vendor.urllib3.connection.HTTPSConnection object at 0x000000EBF77DEC10>: Failed to establish a new connection: [WinError 10061] Подключение не установлено, т.к. конечный компьютер отверг запрос на подключение')': /packages/65/ff/cdae0a8c2118a0de74b6cf4cbcdcaf8fd25857e6c3f205ce4b1794b27814/PyAutoGUI-0.9.54.tar.gz\",\n",
       " \"  WARNING: Retrying (Retry(total=3, connect=None, read=None, redirect=None, status=None)) after connection broken by 'NewConnectionError('<pip._vendor.urllib3.connection.HTTPSConnection object at 0x000000EBF77DF210>: Failed to establish a new connection: [WinError 10061] Подключение не установлено, т.к. конечный компьютер отверг запрос на подключение')': /packages/65/ff/cdae0a8c2118a0de74b6cf4cbcdcaf8fd25857e6c3f205ce4b1794b27814/PyAutoGUI-0.9.54.tar.gz\",\n",
       " \"  WARNING: Retrying (Retry(total=2, connect=None, read=None, redirect=None, status=None)) after connection broken by 'NewConnectionError('<pip._vendor.urllib3.connection.HTTPSConnection object at 0x000000EBF77DF9D0>: Failed to establish a new connection: [WinError 10061] Подключение не установлено, т.к. конечный компьютер отверг запрос на подключение')': /packages/65/ff/cdae0a8c2118a0de74b6cf4cbcdcaf8fd25857e6c3f205ce4b1794b27814/PyAutoGUI-0.9.54.tar.gz\",\n",
       " \"  WARNING: Retrying (Retry(total=1, connect=None, read=None, redirect=None, status=None)) after connection broken by 'NewConnectionError('<pip._vendor.urllib3.connection.HTTPSConnection object at 0x000000EBF87D0110>: Failed to establish a new connection: [WinError 10061] Подключение не установлено, т.к. конечный компьютер отверг запрос на подключение')': /packages/65/ff/cdae0a8c2118a0de74b6cf4cbcdcaf8fd25857e6c3f205ce4b1794b27814/PyAutoGUI-0.9.54.tar.gz\",\n",
       " \"  WARNING: Retrying (Retry(total=0, connect=None, read=None, redirect=None, status=None)) after connection broken by 'NewConnectionError('<pip._vendor.urllib3.connection.HTTPSConnection object at 0x000000EBF87D0990>: Failed to establish a new connection: [WinError 10061] Подключение не установлено, т.к. конечный компьютер отверг запрос на подключение')': /packages/65/ff/cdae0a8c2118a0de74b6cf4cbcdcaf8fd25857e6c3f205ce4b1794b27814/PyAutoGUI-0.9.54.tar.gz\",\n",
       " \"ERROR: Could not install packages due to an OSError: HTTPSConnectionPool(host='files.pythonhosted.org', port=443): Max retries exceeded with url: /packages/65/ff/cdae0a8c2118a0de74b6cf4cbcdcaf8fd25857e6c3f205ce4b1794b27814/PyAutoGUI-0.9.54.tar.gz (Caused by NewConnectionError('<pip._vendor.urllib3.connection.HTTPSConnection object at 0x000000EBF87D1050>: Failed to establish a new connection: [WinError 10061] Подключение не установлено, т.к. конечный компьютер отверг запрос на подключение'))\",\n",
       " '']"
      ]
     },
     "execution_count": 6,
     "metadata": {},
     "output_type": "execute_result"
    }
   ],
   "source": [
    "!!pip install pyautogui"
   ]
  },
  {
   "cell_type": "code",
   "execution_count": 7,
   "id": "8fedf5c8-4cec-423e-af55-94d0a303187c",
   "metadata": {
    "scrolled": true
   },
   "outputs": [
    {
     "data": {
      "text/plain": [
       "['DEPRECATION: Loading egg at c:\\\\users\\\\ce la vie\\\\anaconda3\\\\lib\\\\site-packages\\\\django-5.0.3-py3.11.egg is deprecated. pip 24.3 will enforce this behaviour change. A possible replacement is to use pip for package installation.. Discussion can be found at https://github.com/pypa/pip/issues/12330',\n",
       " 'DEPRECATION: Loading egg at c:\\\\users\\\\ce la vie\\\\anaconda3\\\\lib\\\\site-packages\\\\pip-24.0-py3.11.egg is deprecated. pip 24.3 will enforce this behaviour change. A possible replacement is to use pip for package installation.. Discussion can be found at https://github.com/pypa/pip/issues/12330',\n",
       " 'Collecting autopy',\n",
       " '  Downloading autopy-4.0.0.tar.gz (20 kB)',\n",
       " '  Preparing metadata (setup.py): started',\n",
       " \"  Preparing metadata (setup.py): finished with status 'error'\",\n",
       " '  error: subprocess-exited-with-error',\n",
       " '  ',\n",
       " '  python setup.py egg_info did not run successfully.',\n",
       " '  exit code: 1',\n",
       " '  ',\n",
       " '  [6 lines of output]',\n",
       " '  Traceback (most recent call last):',\n",
       " '    File \"<string>\", line 2, in <module>',\n",
       " '    File \"<pip-setuptools-caller>\", line 34, in <module>',\n",
       " '    File \"C:\\\\Users\\\\Ce la vie\\\\AppData\\\\Local\\\\Temp\\\\pip-install-j1_pw3jl\\\\autopy_603e0092610448798cbc709ae8ddbcc9\\\\setup.py\", line 8, in <module>',\n",
       " '      from setuptools_rust import Binding, RustExtension',\n",
       " \"  ModuleNotFoundError: No module named 'setuptools_rust'\",\n",
       " '  [end of output]',\n",
       " '  ',\n",
       " '  note: This error originates from a subprocess, and is likely not a problem with pip.',\n",
       " 'error: metadata-generation-failed',\n",
       " '',\n",
       " 'Encountered error while generating package metadata.',\n",
       " '',\n",
       " 'See above for output.',\n",
       " '',\n",
       " 'note: This is an issue with the package mentioned above, not pip.',\n",
       " 'hint: See above for details.']"
      ]
     },
     "execution_count": 7,
     "metadata": {},
     "output_type": "execute_result"
    }
   ],
   "source": [
    "!!pip install autopy"
   ]
  },
  {
   "cell_type": "code",
   "execution_count": 10,
   "id": "8c8bffdf-afc0-4aca-8cd5-592621130319",
   "metadata": {},
   "outputs": [
    {
     "ename": "TypeError",
     "evalue": "create_int(): incompatible function arguments. The following argument types are supported:\n    1. (arg0: int) -> mediapipe.python._framework_bindings.packet.Packet\n\nInvoked with: 0.5",
     "output_type": "error",
     "traceback": [
      "\u001b[1;31m---------------------------------------------------------------------------\u001b[0m",
      "\u001b[1;31mTypeError\u001b[0m                                 Traceback (most recent call last)",
      "Cell \u001b[1;32mIn[10], line 78\u001b[0m\n\u001b[0;32m     74\u001b[0m             \u001b[38;5;28;01mbreak\u001b[39;00m\n\u001b[0;32m     77\u001b[0m \u001b[38;5;28;01mif\u001b[39;00m \u001b[38;5;18m__name__\u001b[39m \u001b[38;5;241m==\u001b[39m \u001b[38;5;124m\"\u001b[39m\u001b[38;5;124m__main__\u001b[39m\u001b[38;5;124m\"\u001b[39m:\n\u001b[1;32m---> 78\u001b[0m     main()\n",
      "Cell \u001b[1;32mIn[10], line 57\u001b[0m, in \u001b[0;36mmain\u001b[1;34m()\u001b[0m\n\u001b[0;32m     55\u001b[0m cTime \u001b[38;5;241m=\u001b[39m \u001b[38;5;241m0\u001b[39m\n\u001b[0;32m     56\u001b[0m cap \u001b[38;5;241m=\u001b[39m cv2\u001b[38;5;241m.\u001b[39mVideoCapture(\u001b[38;5;241m1\u001b[39m)\n\u001b[1;32m---> 57\u001b[0m detector \u001b[38;5;241m=\u001b[39m handDetector(maxHands\u001b[38;5;241m=\u001b[39m\u001b[38;5;241m1\u001b[39m)\n\u001b[0;32m     58\u001b[0m \u001b[38;5;28;01mwhile\u001b[39;00m \u001b[38;5;28;01mTrue\u001b[39;00m:\n\u001b[0;32m     59\u001b[0m     success, img \u001b[38;5;241m=\u001b[39m cap\u001b[38;5;241m.\u001b[39mread()\n",
      "Cell \u001b[1;32mIn[10], line 14\u001b[0m, in \u001b[0;36mhandDetector.__init__\u001b[1;34m(self, mode, maxHands, detectionCon, trackCon)\u001b[0m\n\u001b[0;32m     11\u001b[0m \u001b[38;5;28mself\u001b[39m\u001b[38;5;241m.\u001b[39mtrackCon \u001b[38;5;241m=\u001b[39m trackCon\n\u001b[0;32m     13\u001b[0m \u001b[38;5;28mself\u001b[39m\u001b[38;5;241m.\u001b[39mmpHands \u001b[38;5;241m=\u001b[39m mp\u001b[38;5;241m.\u001b[39msolutions\u001b[38;5;241m.\u001b[39mhands\n\u001b[1;32m---> 14\u001b[0m \u001b[38;5;28mself\u001b[39m\u001b[38;5;241m.\u001b[39mhands \u001b[38;5;241m=\u001b[39m \u001b[38;5;28mself\u001b[39m\u001b[38;5;241m.\u001b[39mmpHands\u001b[38;5;241m.\u001b[39mHands(\u001b[38;5;28mself\u001b[39m\u001b[38;5;241m.\u001b[39mmode, \u001b[38;5;28mself\u001b[39m\u001b[38;5;241m.\u001b[39mmaxHands,\n\u001b[0;32m     15\u001b[0m                                 \u001b[38;5;28mself\u001b[39m\u001b[38;5;241m.\u001b[39mdetectionCon, \u001b[38;5;28mself\u001b[39m\u001b[38;5;241m.\u001b[39mtrackCon)\n\u001b[0;32m     16\u001b[0m \u001b[38;5;28mself\u001b[39m\u001b[38;5;241m.\u001b[39mmpDraw \u001b[38;5;241m=\u001b[39m mp\u001b[38;5;241m.\u001b[39msolutions\u001b[38;5;241m.\u001b[39mdrawing_utils\n",
      "File \u001b[1;32m~\\anaconda3\\Lib\\site-packages\\mediapipe\\python\\solutions\\hands.py:114\u001b[0m, in \u001b[0;36mHands.__init__\u001b[1;34m(self, static_image_mode, max_num_hands, model_complexity, min_detection_confidence, min_tracking_confidence)\u001b[0m\n\u001b[0;32m     89\u001b[0m \u001b[38;5;28;01mdef\u001b[39;00m \u001b[38;5;21m__init__\u001b[39m(\u001b[38;5;28mself\u001b[39m,\n\u001b[0;32m     90\u001b[0m              static_image_mode\u001b[38;5;241m=\u001b[39m\u001b[38;5;28;01mFalse\u001b[39;00m,\n\u001b[0;32m     91\u001b[0m              max_num_hands\u001b[38;5;241m=\u001b[39m\u001b[38;5;241m2\u001b[39m,\n\u001b[0;32m     92\u001b[0m              model_complexity\u001b[38;5;241m=\u001b[39m\u001b[38;5;241m1\u001b[39m,\n\u001b[0;32m     93\u001b[0m              min_detection_confidence\u001b[38;5;241m=\u001b[39m\u001b[38;5;241m0.5\u001b[39m,\n\u001b[0;32m     94\u001b[0m              min_tracking_confidence\u001b[38;5;241m=\u001b[39m\u001b[38;5;241m0.5\u001b[39m):\n\u001b[0;32m     95\u001b[0m \u001b[38;5;250m  \u001b[39m\u001b[38;5;124;03m\"\"\"Initializes a MediaPipe Hand object.\u001b[39;00m\n\u001b[0;32m     96\u001b[0m \n\u001b[0;32m     97\u001b[0m \u001b[38;5;124;03m  Args:\u001b[39;00m\n\u001b[1;32m   (...)\u001b[0m\n\u001b[0;32m    112\u001b[0m \u001b[38;5;124;03m      https://solutions.mediapipe.dev/hands#min_tracking_confidence.\u001b[39;00m\n\u001b[0;32m    113\u001b[0m \u001b[38;5;124;03m  \"\"\"\u001b[39;00m\n\u001b[1;32m--> 114\u001b[0m   \u001b[38;5;28msuper\u001b[39m()\u001b[38;5;241m.\u001b[39m\u001b[38;5;21m__init__\u001b[39m(\n\u001b[0;32m    115\u001b[0m       binary_graph_path\u001b[38;5;241m=\u001b[39m_BINARYPB_FILE_PATH,\n\u001b[0;32m    116\u001b[0m       side_inputs\u001b[38;5;241m=\u001b[39m{\n\u001b[0;32m    117\u001b[0m           \u001b[38;5;124m'\u001b[39m\u001b[38;5;124mmodel_complexity\u001b[39m\u001b[38;5;124m'\u001b[39m: model_complexity,\n\u001b[0;32m    118\u001b[0m           \u001b[38;5;124m'\u001b[39m\u001b[38;5;124mnum_hands\u001b[39m\u001b[38;5;124m'\u001b[39m: max_num_hands,\n\u001b[0;32m    119\u001b[0m           \u001b[38;5;124m'\u001b[39m\u001b[38;5;124muse_prev_landmarks\u001b[39m\u001b[38;5;124m'\u001b[39m: \u001b[38;5;129;01mnot\u001b[39;00m static_image_mode,\n\u001b[0;32m    120\u001b[0m       },\n\u001b[0;32m    121\u001b[0m       calculator_params\u001b[38;5;241m=\u001b[39m{\n\u001b[0;32m    122\u001b[0m           \u001b[38;5;124m'\u001b[39m\u001b[38;5;124mpalmdetectioncpu__TensorsToDetectionsCalculator.min_score_thresh\u001b[39m\u001b[38;5;124m'\u001b[39m:\n\u001b[0;32m    123\u001b[0m               min_detection_confidence,\n\u001b[0;32m    124\u001b[0m           \u001b[38;5;124m'\u001b[39m\u001b[38;5;124mhandlandmarkcpu__ThresholdingCalculator.threshold\u001b[39m\u001b[38;5;124m'\u001b[39m:\n\u001b[0;32m    125\u001b[0m               min_tracking_confidence,\n\u001b[0;32m    126\u001b[0m       },\n\u001b[0;32m    127\u001b[0m       outputs\u001b[38;5;241m=\u001b[39m[\n\u001b[0;32m    128\u001b[0m           \u001b[38;5;124m'\u001b[39m\u001b[38;5;124mmulti_hand_landmarks\u001b[39m\u001b[38;5;124m'\u001b[39m, \u001b[38;5;124m'\u001b[39m\u001b[38;5;124mmulti_hand_world_landmarks\u001b[39m\u001b[38;5;124m'\u001b[39m,\n\u001b[0;32m    129\u001b[0m           \u001b[38;5;124m'\u001b[39m\u001b[38;5;124mmulti_handedness\u001b[39m\u001b[38;5;124m'\u001b[39m\n\u001b[0;32m    130\u001b[0m       ])\n",
      "File \u001b[1;32m~\\anaconda3\\Lib\\site-packages\\mediapipe\\python\\solution_base.py:259\u001b[0m, in \u001b[0;36mSolutionBase.__init__\u001b[1;34m(self, binary_graph_path, graph_config, calculator_params, graph_options, side_inputs, outputs, stream_type_hints)\u001b[0m\n\u001b[0;32m    256\u001b[0m \u001b[38;5;28;01mfor\u001b[39;00m stream_name \u001b[38;5;129;01min\u001b[39;00m \u001b[38;5;28mself\u001b[39m\u001b[38;5;241m.\u001b[39m_output_stream_type_info\u001b[38;5;241m.\u001b[39mkeys():\n\u001b[0;32m    257\u001b[0m   \u001b[38;5;28mself\u001b[39m\u001b[38;5;241m.\u001b[39m_graph\u001b[38;5;241m.\u001b[39mobserve_output_stream(stream_name, callback, \u001b[38;5;28;01mTrue\u001b[39;00m)\n\u001b[1;32m--> 259\u001b[0m \u001b[38;5;28mself\u001b[39m\u001b[38;5;241m.\u001b[39m_input_side_packets \u001b[38;5;241m=\u001b[39m {\n\u001b[0;32m    260\u001b[0m     name: \u001b[38;5;28mself\u001b[39m\u001b[38;5;241m.\u001b[39m_make_packet(\u001b[38;5;28mself\u001b[39m\u001b[38;5;241m.\u001b[39m_side_input_type_info[name], data)\n\u001b[0;32m    261\u001b[0m     \u001b[38;5;28;01mfor\u001b[39;00m name, data \u001b[38;5;129;01min\u001b[39;00m (side_inputs \u001b[38;5;129;01mor\u001b[39;00m {})\u001b[38;5;241m.\u001b[39mitems()\n\u001b[0;32m    262\u001b[0m }\n\u001b[0;32m    263\u001b[0m \u001b[38;5;28mself\u001b[39m\u001b[38;5;241m.\u001b[39m_graph\u001b[38;5;241m.\u001b[39mstart_run(\u001b[38;5;28mself\u001b[39m\u001b[38;5;241m.\u001b[39m_input_side_packets)\n",
      "File \u001b[1;32m~\\anaconda3\\Lib\\site-packages\\mediapipe\\python\\solution_base.py:260\u001b[0m, in \u001b[0;36m<dictcomp>\u001b[1;34m(.0)\u001b[0m\n\u001b[0;32m    256\u001b[0m \u001b[38;5;28;01mfor\u001b[39;00m stream_name \u001b[38;5;129;01min\u001b[39;00m \u001b[38;5;28mself\u001b[39m\u001b[38;5;241m.\u001b[39m_output_stream_type_info\u001b[38;5;241m.\u001b[39mkeys():\n\u001b[0;32m    257\u001b[0m   \u001b[38;5;28mself\u001b[39m\u001b[38;5;241m.\u001b[39m_graph\u001b[38;5;241m.\u001b[39mobserve_output_stream(stream_name, callback, \u001b[38;5;28;01mTrue\u001b[39;00m)\n\u001b[0;32m    259\u001b[0m \u001b[38;5;28mself\u001b[39m\u001b[38;5;241m.\u001b[39m_input_side_packets \u001b[38;5;241m=\u001b[39m {\n\u001b[1;32m--> 260\u001b[0m     name: \u001b[38;5;28mself\u001b[39m\u001b[38;5;241m.\u001b[39m_make_packet(\u001b[38;5;28mself\u001b[39m\u001b[38;5;241m.\u001b[39m_side_input_type_info[name], data)\n\u001b[0;32m    261\u001b[0m     \u001b[38;5;28;01mfor\u001b[39;00m name, data \u001b[38;5;129;01min\u001b[39;00m (side_inputs \u001b[38;5;129;01mor\u001b[39;00m {})\u001b[38;5;241m.\u001b[39mitems()\n\u001b[0;32m    262\u001b[0m }\n\u001b[0;32m    263\u001b[0m \u001b[38;5;28mself\u001b[39m\u001b[38;5;241m.\u001b[39m_graph\u001b[38;5;241m.\u001b[39mstart_run(\u001b[38;5;28mself\u001b[39m\u001b[38;5;241m.\u001b[39m_input_side_packets)\n",
      "File \u001b[1;32m~\\anaconda3\\Lib\\site-packages\\mediapipe\\python\\solution_base.py:562\u001b[0m, in \u001b[0;36mSolutionBase._make_packet\u001b[1;34m(self, packet_data_type, data)\u001b[0m\n\u001b[0;32m    559\u001b[0m   \u001b[38;5;28;01mreturn\u001b[39;00m \u001b[38;5;28mgetattr\u001b[39m(packet_creator, \u001b[38;5;124m'\u001b[39m\u001b[38;5;124mcreate_\u001b[39m\u001b[38;5;124m'\u001b[39m \u001b[38;5;241m+\u001b[39m packet_data_type\u001b[38;5;241m.\u001b[39mvalue)(\n\u001b[0;32m    560\u001b[0m       data, image_format\u001b[38;5;241m=\u001b[39mimage_frame\u001b[38;5;241m.\u001b[39mImageFormat\u001b[38;5;241m.\u001b[39mSRGB)\n\u001b[0;32m    561\u001b[0m \u001b[38;5;28;01melse\u001b[39;00m:\n\u001b[1;32m--> 562\u001b[0m   \u001b[38;5;28;01mreturn\u001b[39;00m \u001b[38;5;28mgetattr\u001b[39m(packet_creator, \u001b[38;5;124m'\u001b[39m\u001b[38;5;124mcreate_\u001b[39m\u001b[38;5;124m'\u001b[39m \u001b[38;5;241m+\u001b[39m packet_data_type\u001b[38;5;241m.\u001b[39mvalue)(data)\n",
      "\u001b[1;31mTypeError\u001b[0m: create_int(): incompatible function arguments. The following argument types are supported:\n    1. (arg0: int) -> mediapipe.python._framework_bindings.packet.Packet\n\nInvoked with: 0.5"
     ]
    }
   ],
   "source": [
    "import cv2\n",
    "import mediapipe as mp\n",
    "import time\n",
    "\n",
    "\n",
    "class handDetector():\n",
    "    def __init__(self, mode=False, maxHands=2, detectionCon=0.5, trackCon=0.5):\n",
    "        self.mode = mode\n",
    "        self.maxHands = maxHands\n",
    "        self.detectionCon = detectionCon\n",
    "        self.trackCon = trackCon\n",
    "\n",
    "        self.mpHands = mp.solutions.hands\n",
    "        self.hands = self.mpHands.Hands(self.mode, self.maxHands,\n",
    "                                        self.detectionCon, self.trackCon)\n",
    "        self.mpDraw = mp.solutions.drawing_utils\n",
    "\n",
    "    def findHands(self, img, draw=True):\n",
    "        imgRGB = cv2.cvtColor(img, cv2.COLOR_BGR2RGB)\n",
    "        self.results = self.hands.process(imgRGB)\n",
    "        # print(results.multi_hand_landmarks)\n",
    "\n",
    "        if self.results.multi_hand_landmarks:\n",
    "            for handLms in self.results.multi_hand_landmarks:\n",
    "                if draw:\n",
    "                    self.mpDraw.draw_landmarks(img, handLms,\n",
    "                                               self.mpHands.HAND_CONNECTIONS)\n",
    "        return img\n",
    "\n",
    "    def findPosition(self, img, handNo=0, draw=True, color =  (255, 0, 255), z_axis=False):\n",
    "\n",
    "        lmList = []\n",
    "        if self.results.multi_hand_landmarks:\n",
    "            myHand = self.results.multi_hand_landmarks[handNo]\n",
    "            for id, lm in enumerate(myHand.landmark):\n",
    "             #   print(id, lm)\n",
    "                h, w, c = img.shape\n",
    "                if z_axis == False:\n",
    "                   cx, cy = int(lm.x * w), int(lm.y * h)\n",
    "                    # print(id, cx, cy)\n",
    "                   lmList.append([id, cx, cy])\n",
    "                elif z_axis:\n",
    "                    cx, cy, cz = int(lm.x * w), int(lm.y * h), round(lm.z,3)\n",
    "                    # print(id, cx, cy, cz)\n",
    "                    lmList.append([id, cx, cy, cz])\n",
    "\n",
    "                if draw:\n",
    "                    cv2.circle(img, (cx, cy),5,color, cv2.FILLED)\n",
    "\n",
    "        return lmList\n",
    "\n",
    "\n",
    "def main():\n",
    "    pTime = 0\n",
    "    cTime = 0\n",
    "    cap = cv2.VideoCapture(1)\n",
    "    detector = handDetector(maxHands=1)\n",
    "    while True:\n",
    "        success, img = cap.read()\n",
    "        img = detector.findHands(img)\n",
    "        lmList = detector.findPosition(img,z_axis=True,draw=False)\n",
    "        if len(lmList) != 0:\n",
    "            print(lmList[4])\n",
    "\n",
    "        cTime = time.time()\n",
    "        fps = 1 / (cTime - pTime)\n",
    "        pTime = cTime\n",
    "\n",
    "        cv2.putText(img, str(int(fps)), (10, 70), cv2.FONT_HERSHEY_PLAIN, 3,\n",
    "                    (255, 0, 255), 3)\n",
    "\n",
    "        cv2.imshow(\"Image\", img)\n",
    "        if cv2.waitKey(1) & 0xFF == ord('q'):\n",
    "            break\n",
    "\n",
    "\n",
    "if __name__ == \"__main__\":\n",
    "    main()"
   ]
  },
  {
   "cell_type": "code",
   "execution_count": null,
   "id": "f1ac61c9-cb18-486d-a8e7-114180f038fa",
   "metadata": {},
   "outputs": [],
   "source": []
  }
 ],
 "metadata": {
  "kernelspec": {
   "display_name": "Python 3 (ipykernel)",
   "language": "python",
   "name": "python3"
  },
  "language_info": {
   "codemirror_mode": {
    "name": "ipython",
    "version": 3
   },
   "file_extension": ".py",
   "mimetype": "text/x-python",
   "name": "python",
   "nbconvert_exporter": "python",
   "pygments_lexer": "ipython3",
   "version": "3.11.7"
  }
 },
 "nbformat": 4,
 "nbformat_minor": 5
}
